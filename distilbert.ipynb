{
 "cells": [
  {
   "cell_type": "markdown",
   "id": "1e3f4548",
   "metadata": {},
   "source": [
    "# DistilBERT\n",
    "\n",
    "Tokeniser: DistilBertTokenizerFast.pre_trained('distilbert-base-uncased')\n",
    "\n",
    "Model: DistilBertForQuestionAnswering\n",
    "\n",
    "Pre-trained model: [distilbert-base-uncased](https://huggingface.co/distilbert-base-uncased)"
   ]
  },
  {
   "cell_type": "code",
   "execution_count": 1,
   "id": "150fb54d",
   "metadata": {},
   "outputs": [],
   "source": [
    "import json"
   ]
  },
  {
   "cell_type": "markdown",
   "id": "b8cdb832",
   "metadata": {},
   "source": [
    "### Data Prep"
   ]
  },
  {
   "cell_type": "code",
   "execution_count": 2,
   "id": "cd6de198",
   "metadata": {},
   "outputs": [],
   "source": [
    "from collections.abc import Iterable\n",
    "\n",
    "# To return a string with the contexts concatenated\n",
    "\n",
    "def flatten(xs):\n",
    "    for x in xs:\n",
    "        if isinstance(x, Iterable) and not isinstance(x, (str, bytes)):\n",
    "            yield from flatten(x)\n",
    "        else:\n",
    "            yield x"
   ]
  },
  {
   "cell_type": "code",
   "execution_count": 3,
   "id": "aa1c9bbd",
   "metadata": {},
   "outputs": [],
   "source": [
    "# To convert data into 3 lists: contexts, questions and answers respectively\n",
    "\n",
    "def read_data(path):\n",
    "    with open(path, 'r') as f:\n",
    "      data = json.load(f)\n",
    "    \n",
    "    contexts = []\n",
    "    questions = []\n",
    "    answers = []\n",
    "    \n",
    "    for group in data:\n",
    "        # Removing yes/no questions not found in the context\n",
    "        if \"yes\" in group['answer'] or \"no\" in group['answer']:\n",
    "            continue\n",
    "        contexts.append(''.join(flatten(group['context'])))\n",
    "        questions.append(group['question'])\n",
    "        answers.append(group['answer'])\n",
    "        \n",
    "    return contexts, questions, answers"
   ]
  },
  {
   "cell_type": "code",
   "execution_count": 4,
   "id": "1b172ac0",
   "metadata": {},
   "outputs": [],
   "source": [
    "train_contexts, train_questions, train_answers = read_data('train_set.json')\n",
    "val_contexts, val_questions, val_answers = read_data('dev_set.json')"
   ]
  },
  {
   "cell_type": "code",
   "execution_count": 5,
   "id": "56ff2568",
   "metadata": {},
   "outputs": [],
   "source": [
    "# The DistilBERT takes in input answer_start (start index of answer in context) and answer_end (end index of answer in context).\n",
    "# NOTE: Some questions would be inadvertenly be removed becuase they contain yes/no answers and will hence, be removed from the corpus\n",
    "# Return a list of dictionaries with {text:answerstring, answer_start: start_idx, answer_end: end_idx}\n",
    "\n",
    "def update_train_answers(answers, contexts):\n",
    "    temp = []\n",
    "    for answer, context in zip(answers,contexts):\n",
    "        gold_text = answer\n",
    "        start_idx = context.find(answer)\n",
    "        # There are some yes/no answers not found in the context\n",
    "        if start_idx == -1:\n",
    "            print(answer)\n",
    "        end_idx = start_idx + len(gold_text)\n",
    "        if context[start_idx:end_idx] == gold_text:\n",
    "            temp.append({'text':answer, 'answer_start':start_idx, 'answer_end':end_idx})\n",
    "        else:\n",
    "            for n in [1,2]:\n",
    "                if context[start_idx-n:end_idx-n] == gold_text:\n",
    "                    temp.append({'text':answer, 'answer_start':start_idx, 'answer_end':end_idx})\n",
    "    return temp"
   ]
  },
  {
   "cell_type": "code",
   "execution_count": 6,
   "id": "a54afa49",
   "metadata": {},
   "outputs": [],
   "source": [
    "train_answers_n = update_train_answers(train_answers,train_contexts)\n",
    "val_answers_n = update_train_answers(val_answers,val_contexts)"
   ]
  },
  {
   "cell_type": "markdown",
   "id": "43d6f3a1",
   "metadata": {},
   "source": [
    "### Tokenize Inputs"
   ]
  },
  {
   "cell_type": "code",
   "execution_count": 7,
   "id": "1c198a78",
   "metadata": {},
   "outputs": [],
   "source": [
    "from transformers import DistilBertTokenizerFast\n",
    "\n",
    "# Tokenise input using DistilBERT tokeniser from pretrained 'distilbert-base-uncased'\n",
    "tokenizer = DistilBertTokenizerFast.from_pretrained('distilbert-base-uncased')"
   ]
  },
  {
   "cell_type": "code",
   "execution_count": 8,
   "id": "dd3d7501",
   "metadata": {},
   "outputs": [],
   "source": [
    "train_encodings = tokenizer(train_contexts, train_questions, truncation=True, padding=True)\n",
    "val_encodings = tokenizer(val_contexts, val_questions, truncation=True, padding=True)"
   ]
  },
  {
   "cell_type": "code",
   "execution_count": 9,
   "id": "b4a55637",
   "metadata": {},
   "outputs": [],
   "source": [
    "# Add the start and end position tokens which is required for the DistilBERTQA model\n",
    "def add_token_answers(encodings, answers):\n",
    "    start_positions = []\n",
    "    end_positions = []\n",
    "    for i in range(len(answers)):\n",
    "        start_positions.append(encodings.char_to_token(i,answers[i]['answer_start']))\n",
    "        end_positions.append(encodings.char_to_token(i,answers[i]['answer_end']))\n",
    "        \n",
    "        # if start position is None, the answer passage has been truncated\n",
    "        if start_positions[-1] is None:\n",
    "            start_positions[-1] = tokenizer.model_max_length\n",
    "        # end position cannot be found, char_to_token found space, so shift one token forward\n",
    "        go_back = 1\n",
    "        while end_positions[-1] is None:\n",
    "            end_positions[-1] = encodings.char_to_token(i, answers[i]['answer_end']-go_back)\n",
    "            go_back +=1\n",
    "    encodings.update({\n",
    "        'start_positions':start_positions,\n",
    "        'end_positions':end_positions\n",
    "                     })"
   ]
  },
  {
   "cell_type": "code",
   "execution_count": 10,
   "id": "fa338561",
   "metadata": {},
   "outputs": [],
   "source": [
    "add_token_answers(train_encodings,train_answers_n)"
   ]
  },
  {
   "cell_type": "code",
   "execution_count": 11,
   "id": "ab0ebe27",
   "metadata": {},
   "outputs": [],
   "source": [
    "add_token_answers(val_encodings,val_answers_n)"
   ]
  },
  {
   "cell_type": "code",
   "execution_count": null,
   "id": "33b2f5e4",
   "metadata": {},
   "outputs": [],
   "source": [
    "import torch\n",
    "\n",
    "\n",
    "class NLDataset(torch.utils.data.Dataset):\n",
    "    def __init__(self, encodings):\n",
    "        self.encodings = encodings\n",
    "\n",
    "    def __getitem__(self, idx):\n",
    "        return {key: torch.tensor(val[idx]) for key, val in self.encodings.items()}\n",
    "\n",
    "    def __len__(self):\n",
    "        return len(self.encodings.input_ids)\n",
    "\n",
    "train_dataset = NLDataset(train_encodings)\n",
    "val_dataset = NLDataset(val_encodings)"
   ]
  },
  {
   "cell_type": "markdown",
   "id": "004c48bf",
   "metadata": {},
   "source": [
    "### Fine-tuning"
   ]
  },
  {
   "cell_type": "code",
   "execution_count": null,
   "id": "7603b006",
   "metadata": {},
   "outputs": [],
   "source": [
    "from transformers import DistilBertForQuestionAnswering\n",
    "\n",
    "# Initialising the DistilBERTQA model using pre-trained 'distilbert-base-uncased'\n",
    "model = DistilBertForQuestionAnswering.from_pretrained('distilbert-base-uncased')"
   ]
  },
  {
   "cell_type": "code",
   "execution_count": null,
   "id": "4ae115c1",
   "metadata": {},
   "outputs": [],
   "source": [
    "from torch.utils.data import DataLoader\n",
    "from transformers import AdamW\n",
    "from tqdm import tqdm"
   ]
  },
  {
   "cell_type": "code",
   "execution_count": null,
   "id": "5f0b0044",
   "metadata": {},
   "outputs": [],
   "source": [
    "# setup GPU/CPU\n",
    "device = torch.device('cuda') if torch.cuda.is_available() else torch.device('cpu')# move model over to detected device\n",
    "model.to(device)"
   ]
  },
  {
   "cell_type": "code",
   "execution_count": null,
   "id": "a79e0954",
   "metadata": {},
   "outputs": [],
   "source": [
    "# activate training mode of model\n",
    "model.train()\n",
    "# initialize adam optimizer with weight decay (reduces chance of overfitting)\n",
    "optim = AdamW(model.parameters(), lr=5e-5)\n",
    "\n",
    "# initialize data loader for training data\n",
    "train_loader = DataLoader(train_dataset, batch_size=16, shuffle=True)\n",
    "\n",
    "for epoch in range(3):\n",
    "    # set model to train mode\n",
    "    model.train()\n",
    "    # setup loop (we use tqdm for the progress bar)\n",
    "    loop = tqdm(train_loader, leave=True)\n",
    "    \n",
    "    for batch in loop:\n",
    "        # initialize calculated gradients (from prev step)\n",
    "        optim.zero_grad()\n",
    "        # pull all the tensor batches required for training\n",
    "        input_ids = batch['input_ids'].to(device)\n",
    "        attention_mask = batch['attention_mask'].to(device)\n",
    "        start_positions = batch['start_positions'].to(device)\n",
    "        end_positions = batch['end_positions'].to(device)\n",
    "        # train model on batch and return outputs (incl. loss)\n",
    "        outputs = model(input_ids, attention_mask=attention_mask,\n",
    "                        start_positions=start_positions,\n",
    "                        end_positions=end_positions)\n",
    "        # extract loss\n",
    "        loss = outputs[0]\n",
    "        # calculate loss for every parameter that needs grad update\n",
    "        loss.backward()\n",
    "        # update parameters\n",
    "        optim.step()\n",
    "        # print relevant info to progress bar\n",
    "        loop.set_description(f'Epoch {epoch}')\n",
    "        loop.set_postfix(loss=loss.item())"
   ]
  },
  {
   "cell_type": "code",
   "execution_count": null,
   "id": "4eed75ba",
   "metadata": {},
   "outputs": [],
   "source": [
    "model_path = 'models/distilbert-custom'\n",
    "model.save_pretrained(model_path)\n",
    "tokenizer.save_pretrained(model_path)"
   ]
  },
  {
   "cell_type": "code",
   "execution_count": null,
   "id": "11ed1550",
   "metadata": {},
   "outputs": [],
   "source": [
    "# switch model out of training mode\n",
    "model.eval()\n",
    "\n",
    "#val_sampler = SequentialSampler(val_dataset)\n",
    "val_loader = DataLoader(val_dataset, batch_size=16)\n",
    "\n",
    "acc = []\n",
    "\n",
    "# initialize loop for progress bar\n",
    "loop = tqdm(val_loader)\n",
    "# loop through batches\n",
    "for batch in loop:\n",
    "    # we don't need to calculate gradients as we're not training\n",
    "    with torch.no_grad():\n",
    "        # pull batched items from loader\n",
    "        input_ids = batch['input_ids'].to(device)\n",
    "        attention_mask = batch['attention_mask'].to(device)\n",
    "        start_true = batch['start_positions'].to(device)\n",
    "        end_true = batch['end_positions'].to(device)\n",
    "        # make predictions\n",
    "        outputs = model(input_ids, attention_mask=attention_mask)\n",
    "        # pull preds out\n",
    "        start_pred = torch.argmax(outputs['start_logits'], dim=1)\n",
    "        end_pred = torch.argmax(outputs['end_logits'], dim=1)\n",
    "        # calculate accuracy for both and append to accuracy list\n",
    "        acc.append(((start_pred == start_true).sum()/len(start_pred)).item())\n",
    "        acc.append(((end_pred == end_true).sum()/len(end_pred)).item())\n",
    "# calculate average accuracy in total\n",
    "acc = sum(acc)/len(acc)"
   ]
  },
  {
   "cell_type": "code",
   "execution_count": null,
   "id": "13e3c3b0",
   "metadata": {},
   "outputs": [],
   "source": [
    "print(\"T/F\\tstart\\tend\\n\")\n",
    "for i in range(len(start_true)):\n",
    "    print(f\"true\\t{start_true[i]}\\t{end_true[i]}\\n\"\n",
    "          f\"pred\\t{start_pred[i]}\\t{end_pred[i]}\\n\")"
   ]
  },
  {
   "cell_type": "code",
   "execution_count": null,
   "id": "dbe59147",
   "metadata": {},
   "outputs": [],
   "source": [
    "print(acc)"
   ]
  },
  {
   "cell_type": "markdown",
   "id": "50f17e7e",
   "metadata": {},
   "source": [
    "### Load Pre-trained model "
   ]
  },
  {
   "cell_type": "code",
   "execution_count": 18,
   "id": "3b45ec93",
   "metadata": {},
   "outputs": [],
   "source": [
    "model = DistilBertForQuestionAnswering.from_pretrained('models/distilbert-custom')"
   ]
  },
  {
   "cell_type": "code",
   "execution_count": null,
   "id": "e333cbf7",
   "metadata": {},
   "outputs": [],
   "source": []
  }
 ],
 "metadata": {
  "kernelspec": {
   "display_name": "Python 3",
   "language": "python",
   "name": "python3"
  },
  "language_info": {
   "codemirror_mode": {
    "name": "ipython",
    "version": 3
   },
   "file_extension": ".py",
   "mimetype": "text/x-python",
   "name": "python",
   "nbconvert_exporter": "python",
   "pygments_lexer": "ipython3",
   "version": "3.8.8"
  }
 },
 "nbformat": 4,
 "nbformat_minor": 5
}
